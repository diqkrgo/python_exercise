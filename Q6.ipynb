{
 "cells": [
  {
   "attachments": {},
   "cell_type": "markdown",
   "metadata": {},
   "source": [
    "### Q6 (https://programmers.co.kr/learn/courses/30/lessons/12935)\n",
    "\n",
    "### 정수를 저장한 배열, arr 에서 가장 작은 수를 제거한 배열을 리턴하는 함수, solution을 완성해주세요. 단, 리턴하려는 배열이 빈 배열인 경우엔 배열에 -1을 채워 리턴하세요. 예를들어 arr이 [4,3,2,1]인 경우는 [4,3,2]를 리턴 하고, [10]면 [-1]을 리턴 합니다.\n",
    "\n",
    "### 제한 조건\n",
    "- arr은 길이 1 이상인 배열입니다.\n",
    "- 인덱스 i, j에 대해 i ≠ j이면 arr[i] ≠ arr[j] 입니다.\n",
    "\n",
    "### 입출력 예\n",
    "|arr |return\n",
    "|----|----\n",
    "|[4,3,2,1] |[4,3,2]\n",
    "|[10] |[-1]\n",
    "\n",
    "\n",
    "### 리스트에서 원소 제거 함수\n",
    "- a.pop(0) : 0번 인덱스의 원소가 제거됨\n",
    "- a.remove(10) : 10 값을 가진 원소가 제거됨, 10이라는 값이 여러개라면 맨 처음에 있는 것만 제거됨"
   ]
  },
  {
   "cell_type": "code",
   "execution_count": 32,
   "metadata": {},
   "outputs": [
    {
     "name": "stdout",
     "output_type": "stream",
     "text": [
      "[4, 3, 2]\n"
     ]
    }
   ],
   "source": [
    "# Q6 Answer template\n",
    "def solution(arr):\n",
    "    arr.remove(min(arr))\n",
    "    return arr\n",
    "arr = [4, 3, 2, 1]\n",
    "a = solution(arr)\n",
    "print(a)"
   ]
  }
 ],
 "metadata": {
  "kernelspec": {
   "display_name": "base",
   "language": "python",
   "name": "python3"
  },
  "language_info": {
   "codemirror_mode": {
    "name": "ipython",
    "version": 3
   },
   "file_extension": ".py",
   "mimetype": "text/x-python",
   "name": "python",
   "nbconvert_exporter": "python",
   "pygments_lexer": "ipython3",
   "version": "3.9.13"
  },
  "orig_nbformat": 4,
  "vscode": {
   "interpreter": {
    "hash": "f08154012ddadd8e950e6e9e035c7a7b32c136e7647e9b7c77e02eb723a8bedb"
   }
  }
 },
 "nbformat": 4,
 "nbformat_minor": 2
}
