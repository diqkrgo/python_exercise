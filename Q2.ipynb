{
 "cells": [
  {
   "cell_type": "code",
   "execution_count": null,
   "metadata": {},
   "outputs": [],
   "source": [
    "def solution(numbers):\n",
    "    n = list(range(1,10))\n",
    "    answer = set(n)-set(numbers)\n",
    "    return sum(answer)\n",
    "\n",
    "numbers = [5,8,4,0,6,7,9]\n",
    "print(solution(numbers))"
   ]
  }
 ],
 "metadata": {
  "language_info": {
   "name": "python"
  },
  "orig_nbformat": 4
 },
 "nbformat": 4,
 "nbformat_minor": 2
}
